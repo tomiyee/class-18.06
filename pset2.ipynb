{
 "cells": [
  {
   "cell_type": "markdown",
   "metadata": {},
   "source": [
    "# 18.06 Spring2019 pset 2 \n",
    "## due Wednesday  2/20 at 10:55am"
   ]
  },
  {
   "cell_type": "markdown",
   "metadata": {},
   "source": [
    "Note about pedagogical style: Your professor tends to use the technique of \"foreshadowing.\"  This means that you may see a notion in the homework that we believe you are ready to attack at this point in the class,  but the bigger picture emerges later. It is well known that most students learn best this way.  Of course if you start googling around, you can see the bigger picture earlier, at least with some other author's notation or point of view.  I can't and wouldn't stop you, but rest assured you will see concepts over and over again in expanding waves in this class. <br> <br>\n",
    "If you need to know where we are heading, I am planning to cover all of the results (but not the methods in) Strang's chapters 2 and 3 by leading up to the SVD (singular value decomposition) without any mention of pivot variables, free variables, or eigenvalues.  This means you are less likely to understand how to hand compute the various concepts, and more likely to understand them conceptually.  This gives us time to also show you some applications.  It is indeed an experiment, which is why I welcome feedback, positive and negative, during my many, office hours, but I honestly feel in my heart that I am providing a valuable approach.\n",
    "<br><br>\n",
    "The problem sets are meant to be learning experiences, and perhaps more challenging than you are familiar with.  This is not going to be the style of class where you find a similar problem in the lecture notes and just repeat.  You may have to reach back into the 18.02 prerequisites for this class.  You may learn a lot by working with other students in the class.  There is a lot to be learned  [at the math learning center](https://math.mit.edu/learningcenter/), in recitations, during the TAs office hours, and my numerous office hours.  No promises that 18.06 is easy, only that you will learn a lot!\n",
    "\n",
    "All questions are 10 points, problem 10 will be a freebie if you execute it. (Coming soon)"
   ]
  },
  {
   "cell_type": "markdown",
   "metadata": {},
   "source": [
    "### 1. Warmup questions  (10 points, -1 for wrong answers until 0 is reached)\n",
    "   Reminder: in mathematical contexts the distinction between an n-vector and an nx1 single column matrix tends to be blurred.  On computers this can and does cause problems.  In the following, we will blur the distinction. For these problems, some of you will know how to do it from the prerequisites, some will ask your friends or your recitation instructor, but in any event you will strengthen your general feel for linear algebra.<br> \n",
    "    Some places worth looking for answers are Strang Section 1.2, page 194, VMLS page 58.  The definition of a [normal](https://en.wikipedia.org/wiki/Normal_(geometry)), the definition of a [gradient](https://www.khanacademy.org/math/multivariable-calculus/multivariable-derivatives/partial-derivative-and-gradient-articles/a/the-gradient), the definition of a [plane](http://mathworld.wolfram.com/Plane.html) and the definition of a [hyperplane](http://mathworld.wolfram.com/Hyperplane.html) which generalizes a plane. Also ||v|| = sqrt(vᵀv), is the length of a vector v, sometimes pronounced the norm of v, or the magnitude of v.  \n",
    "   \n",
    "   \n",
    "   \n",
    "   \n",
    "       1a. If vᵀw=0 we say that v and w are a) perpendicular b) orthogonal c) at right angles d) all the above.\n",
    "       1b. The equation 2x+3y+4z = 0 describes a a) line  b)  plane through 0  c)  plane not through 0 d) sphere\n",
    "       1c. A normal to your answer in 1b is __________?\n",
    "       1d. The equation 2x+3y+4z = 2019 describes a a) line  b)  plane through 0  c)  plane not through 0 d) sphere\n",
    "       1e. A normal to your answer in 1d is __________?\n",
    "       1f. The equation x²+y²+z²=1 describes a a) line  b)  plane through 0  c)  plane not through 0 d) sphere\n",
    "       1g. A normal to your answer in 1f is __________?  (Hint: ok to use intuition from two or three dimensions)\n",
    "       1h. Calculate the gradient of f(x,y,z) = 2x+3y+4z\n",
    "       1i. Calculate the gradient of f(x,y,z) = x²+y²+z² \n",
    "       1j. The inequality 2x+3y+4 > 0 describes a region of 3 dimensional space.  Describe that region:_____\n",
    "       1k. The inequality 2x+3y+4 < 2019 describes a region of 3 dimensional space.  Describe that region:_____\n",
    "       1l.  Using vector language in Rⁿ, (no elements or indices)  write an equation that describes every v on the hyperplane through 0 with given normal vector w (not 0).  \n",
    "       1m. Give an example of a hyperplane parallel to the hyperplane in 1l above that does  not go through 0.\n",
    "       1n. Suppose given a nonzero w that we consider the hyperplane of all v for which  wᵀv=1.  Find the unique vector v (in terms of w) that is on this hyperplane in the direction w.  (It is helpful to define ||w|| as the length of w.) \n",
    "\n",
    "       "
   ]
  },
  {
   "cell_type": "markdown",
   "metadata": {},
   "source": [
    "1a) d\n",
    "(v^T)w is the definition of a dot product, and the dot product of two vectors is 0 iff they are perpendicular. \"Perpendicular,\" \"orthogonal,\" and \"at right angles\" are all synonyms.\n",
    "\n",
    "1b) b\n",
    "\n",
    "1c) The normal vector to the equation 2x+3y+4z=0 is the vector <2,3,4>, since the equation for a line is defined by <normal vector>*<x,y,z>\n",
    "\n",
    "1d) c\n",
    "\n",
    "1e) The normal vector to the equation is also <2,3,4>\n",
    "\n",
    "1f) d\n",
    "\n",
    "1g) The normal vector of the sphere is <x, y, z>\n",
    "\n",
    "1h) <2, 3, 4>\n",
    "\n",
    "1i) <2x, 2y, 2z>\n",
    "\n",
    "1j) The inequality describes the region directly above the plane defined by 2x+3y+4 = 0 (or 2x+3y+4z > 0 as I assume was originally intended)\n",
    "\n",
    "1k) The inequality descibes the region directly below the plane defined by 2x+3y+4 = 2019 (or 2x+3y+4z < 2019 as I assume was originally intended)\n",
    "\n",
    "1l) w^T x = 0\n",
    "\n",
    "1m) w^T x = 1\n",
    "\n",
    "1n) The unique vector v such that v^T w = 1 and v is parallel to w is v = w / ||w||"
   ]
  },
  {
   "cell_type": "markdown",
   "metadata": {},
   "source": [
    "## 2. (Real) Vector Spaces (10 points) (Strang page 123, Lecture 2 slides)\n",
    "\n",
    "a) If $v$ is a vector in any vector space, what is the complete list of vectors that must also be in this vector space?\n",
    "\n",
    "b) Must a vector space contain a zero vector?  Why?\n",
    "\n",
    "c) What is the zero vector in $R^4$? in $R^{2,3}$? What is the zero function?  What is the zero  (differential) operator from functions to functions? (Hint: The zero  operator takes in an arbitrary function and returns....)\n",
    "\n",
    "d) State in words the difference between the zero function and the zero operator, as they seem so similar."
   ]
  },
  {
   "cell_type": "markdown",
   "metadata": {},
   "source": [
    "### Response\n",
    "\n",
    "a) For $v \\in \\mathbb{V}$, the complete list of vectors in this vector space is $\\forall a \\in \\mathbb{R}, av \\in \\mathbb{V}$ if multiplication is defined. \n",
    "\n",
    "b) A vector space must contain a zero vector because any vector in the vector space must be closed in multiplication by a scalar, which includes the scalar 0. It must also be closed in addition, which includes the negative vector. \n",
    "\n",
    "c) The zero vector in $\\mathbb{R}^4$ is (0,0,0,0). \n",
    "\n",
    "The zero vector in $\\mathbb{R}^{2,3}$ is $ \\begin{pmatrix} 0 & 0 & 0 \\\\ 0 & 0 & 0 \\end{pmatrix}$,\n",
    "\n",
    "The zero function in $\\mathbb{R}^4$ is $f(v) = \\begin{pmatrix} 0 & 0 & 0 & 0 \\\\ 0 & 0 & 0 & 0 \\\\ 0 & 0 & 0 & 0 \\\\ 0 & 0 & 0 & 0 \\end{pmatrix}$v, \n",
    "\n",
    "The zero function in $\\mathbb{R}^{2,3}$ is $f(B) = \\begin{pmatrix} 0 & 0  \\\\ 0 & 0  \\end{pmatrix}B$\n",
    "\n",
    "The zero operator in $\\mathbb{R}^4$ is $\\begin{pmatrix} 0 & 0 & 0 & 0 \\\\ 0 & 0 & 0 & 0 \\\\ 0 & 0 & 0 & 0 \\\\ 0 & 0 & 0 & 0 \\end{pmatrix}$\n",
    "\n",
    "The zero operator in $\\mathbb{R}^{2,3}$ is $\\begin{pmatrix} 0 & 0  \\\\ 0 & 0  \\end{pmatrix}$\n",
    "\n",
    "d) A zero function maps any vector in one vector space to the zero vector in another vector space (possibly the same vector space), whereas a zero operator maps any function to a zero function."
   ]
  },
  {
   "cell_type": "markdown",
   "metadata": {},
   "source": [
    "## 3. Am I a vector space?  (The basic question here is whether every linear combination is in the space.  If there is no zero, then I'm for sure not a vector space.)"
   ]
  },
  {
   "cell_type": "markdown",
   "metadata": {},
   "source": [
    "a) All vectors in $R^n$ whose entries sum to 0.\n",
    "\n",
    "b) All matrices in $R^{m,n}$ whose entries when squared sum to 1.\n",
    "\n",
    "c) Cubic polynomials of the form $f(x) = a + bx + cx^2 + dx^3$, where $a,b,c,d$ are abitrary, possibly 0.\n",
    "\n",
    "d) All linear functions of the form $f(x) = mx +b$, where $f(17)=0$. ($m$ or $b$ may possibly be 0)\n",
    "\n",
    "e)  All linear functions of the form $f(x) = mx +b$, where $f(0)=17$.($m$ or $b$ may possibly be 0)"
   ]
  },
  {
   "cell_type": "markdown",
   "metadata": {},
   "source": [
    "a) Yes\n",
    "\n",
    "b) No\n",
    "\n",
    "c) Yes\n",
    "\n",
    "d) Yes\n",
    "\n",
    "e) No"
   ]
  },
  {
   "cell_type": "markdown",
   "metadata": {},
   "source": [
    "## 4. Nullspace\n",
    "\n",
    "A fact you are supposed to already know about matrices is that $M(cv+dw) = cMv+dMw$, if $M$ is any matrix, $c$ and $d$ are any scalars, and $v$ and $w$ are any vectors.  \n",
    "\n",
    "Suppose for some particular rectangular matrix $M$, we have $Mv=0$ and $Mw=0$ for some particular vectors $v$ and $w$.  Is it true that if $x$ is a linear combination of $v$ and $w$ then $Mx$ is also 0? Why?\n",
    "\n",
    "The set of vectors $x$ for which $Mx=0$ is known as the nullspace of $X$.  For an mxn matrix it could be the zero vector in $R^n$ or it could be all of $R^n$.\n",
    "\n",
    "What is the nullspace of the $n$ by $n$ identity matrix?  The $n$ by $n$ zero matrix?  The $m$ by $n$ matrix of all ones?"
   ]
  },
  {
   "cell_type": "markdown",
   "metadata": {},
   "source": [
    "### Response\n",
    "\n",
    "Given the fact that for any matrix $M$, scalars $c$ and $d$, and vectors $v$ and $w$: $M(cv+dw) = cMv+dMw$.\n",
    "\n",
    "For some matrix $M$ and vectors $v$, $w$, and $x$, where $x$ is a linear combination $v$ and $w$, we can conclude that $Mx=0$. This is because we can represent $x$ as $cv+dw$ for some c and d. We can then substitute this expression in place of $x$ to get:\n",
    "\n",
    "$\\begin{align*}\n",
    "Mx &= 0 \\\\\n",
    "M(cv+dw) &= 0 \\\\\n",
    "cMv+dMw &= 0 \\\\\n",
    "c(0) + d(0) &= 0 \\\\\n",
    "0 &= 0\n",
    "\\end{align*}$\n",
    "\n",
    "Therefore we can conclude that the matrix M multiplied by any linear combination of $v$ and $w$ would also equal 0.\n",
    "\n",
    "\n",
    "The nullspace of an $n\\times n$ identity matrix is the zero vector in $\\mathbb{R}^{n}$.\n",
    "\n",
    "The nullspace of an $n\\times n$ zero matrix is all vectors in $\\mathbb{R]^n$.\n",
    "\n",
    "The nullspace of an $m\\times n$ matrix of all ones is any vector in $\\mathbb{R}^n$ whose elements sum to 0."
   ]
  },
  {
   "cell_type": "markdown",
   "metadata": {},
   "source": [
    "## 5. Column Space\n",
    "\n",
    "The column space of a matrix $M$ is the set of all vectors $y$ which can be written in the form $Mx$ for some vector $x$.  Why is the column space a vector space?\n",
    "\n",
    "What is the column space of the $n$ by $n$ identity matrix?  The $n$ by $n$ zero matrix?  The $m$ by $n$ matrix of all ones?\n"
   ]
  },
  {
   "cell_type": "markdown",
   "metadata": {},
   "source": [
    "### Response\n",
    "\n",
    "The column space of the matrix $M$ is a vector space because the column space is the set of all vectors that are a linear combination of the columns of the matrix $M$. All vector spaces can be represented as a linear combination of vectors.\n",
    "\n",
    "The columns space of an $n\\times n$ identity matrix is all vectors in space $\\mathbb{R}^n$.\n",
    "\n",
    "The columns space of an $n\\times n$ zero matrix is the zero vector in $\\mathbb{R}^n$.\n",
    "\n",
    "The columns space of an $m\\times n$ matrix of all ones is a line in $\\mathbb{R}^m$ with a slope of a vector with all 1s going through the origin. "
   ]
  },
  {
   "cell_type": "markdown",
   "metadata": {},
   "source": [
    "## 6. Using the SVD\n",
    "\n"
   ]
  },
  {
   "cell_type": "code",
   "execution_count": 1,
   "metadata": {},
   "outputs": [],
   "source": [
    "using LinearAlgebra"
   ]
  },
  {
   "cell_type": "markdown",
   "metadata": {},
   "source": [
    "In Julia if you are given an m x n matrix $A$, Julia returns a matrix $U$, a vector $s$ and a Matrix $V$ for which  A = U * Diagonal(s) * V' (up to floating point roundoff errors) <br>\n",
    "\n",
    "If m >n,  $U$ is m by n, Diagonal(s) is n by n,  and $V$ is n by n. <br>\n",
    "If m < n $U$ is m by m, Diagonal(s) is m by m, and $V$ is n by m.\n",
    "\n",
    "You can remember this because the result is m by n, and the Diagonal(s) is always square whose size is the smaller of m and n.\n",
    "\n",
    "Here are some examples:\n"
   ]
  },
  {
   "cell_type": "code",
   "execution_count": 2,
   "metadata": {},
   "outputs": [
    {
     "name": "stdout",
     "output_type": "stream",
     "text": [
      "(4, 4)(4, 4)(5, 4)\n"
     ]
    }
   ],
   "source": [
    "A = rand(4,5)\n",
    "U,s,V = svd(A)\n",
    "println( size(U), size(Diagonal(s)), size(V))"
   ]
  },
  {
   "cell_type": "code",
   "execution_count": 3,
   "metadata": {},
   "outputs": [
    {
     "name": "stdout",
     "output_type": "stream",
     "text": [
      "(5, 4)(4, 4)(4, 4)\n"
     ]
    }
   ],
   "source": [
    "A = rand(5,4)\n",
    "U,s,V = svd(A)\n",
    "println( size(U), size(Diagonal(s)), size(V))"
   ]
  },
  {
   "cell_type": "markdown",
   "metadata": {},
   "source": [
    "What are the sizes of $U$, $Diagonal(s)$ and $V$ for <br>\n",
    "    a) A 10x10 matrix? <br>\n",
    "    b) A 10x20 matrix? <br>\n",
    "    c) A 20x10 matrix?"
   ]
  },
  {
   "cell_type": "markdown",
   "metadata": {},
   "source": [
    "### Response\n",
    "\n",
    "(10,10), (10,10), (10, 10)\n",
    "\n",
    "(10, 10), (10, 10), (20, 10)\n",
    "\n",
    "(20, 10), (10, 10), (10, 10)"
   ]
  },
  {
   "cell_type": "markdown",
   "metadata": {},
   "source": [
    "## 7. It is possible to solve Ax=b for an invertible A using the svd. It's slightly less efficient than LU but usually quite reasonably accurate, even at least as accurate as LU."
   ]
  },
  {
   "cell_type": "markdown",
   "metadata": {},
   "source": [
    "Here is an example from Svetlana's problems posted in Piazza:\n",
    "\n",
    "x + 2y + 3z =1 <br>\n",
    "y + z = 2 <br>\n",
    "3x + y - z =3\n",
    "\n",
    "Solution:\n"
   ]
  },
  {
   "cell_type": "code",
   "execution_count": 4,
   "metadata": {},
   "outputs": [
    {
     "data": {
      "text/plain": [
       "3×3 Array{Int64,2}:\n",
       " 1  2   3\n",
       " 0  1   1\n",
       " 3  1  -1"
      ]
     },
     "execution_count": 4,
     "metadata": {},
     "output_type": "execute_result"
    }
   ],
   "source": [
    "# Form the Matrix\n",
    "A = [1 2 3; 0 1 1; 3 1 -1]"
   ]
  },
  {
   "cell_type": "code",
   "execution_count": 5,
   "metadata": {},
   "outputs": [
    {
     "data": {
      "text/plain": [
       "3-element Array{Int64,1}:\n",
       " 1\n",
       " 2\n",
       " 3"
      ]
     },
     "execution_count": 5,
     "metadata": {},
     "output_type": "execute_result"
    }
   ],
   "source": [
    "# For the right hand side b\n",
    "b = [1, 2, 3]"
   ]
  },
  {
   "cell_type": "code",
   "execution_count": 6,
   "metadata": {},
   "outputs": [
    {
     "data": {
      "text/plain": [
       "3-element Array{Float64,1}:\n",
       " -1.0000000000000004\n",
       "  4.000000000000002 \n",
       " -1.9999999999999998"
      ]
     },
     "execution_count": 6,
     "metadata": {},
     "output_type": "execute_result"
    }
   ],
   "source": [
    "U,s,V = svd(A)\n",
    "V*((U'b)./s)"
   ]
  },
  {
   "cell_type": "markdown",
   "metadata": {},
   "source": [
    "Don't let floating point fool you, the answer given is -1,4,-2.  Check that the solution is right.  Explain mathematically why V*((U'b)./s) gives the right answer."
   ]
  },
  {
   "cell_type": "markdown",
   "metadata": {},
   "source": [
    "On an exam, you will not be expected to compute an SVD using eigenvalues or a computer.  The SVD story will unfold during the course of the semester."
   ]
  },
  {
   "cell_type": "markdown",
   "metadata": {},
   "source": [
    "### Response\n",
    "\n",
    "The singular value decomposition of a matrix $M \\in \\mathbb{R}^{m,n}$ results in an orthogonal matrix $U$, a diagonal matrix $s$, and another orthogonal matrix $V$. To solve for $x$ in the equation $Ax=b$, we can take advantage of the orthogonality and multiply by the transpose of the matrices and \"divide\" element-wise by the diagonal matrix to solve for x."
   ]
  },
  {
   "cell_type": "markdown",
   "metadata": {},
   "source": [
    "## 8.  Suppose $W$ is an unknown 2x2 matrix, and we want to approximately find a $W$ that best fits $Wxᵢ=yᵢ$ where x₁,x₂,x₃,y₁,y₂,y₃ are each known 2 vectors?  How would you find $W$ using QR?\n",
    "Hint: this is tricky because the unknowns are the four elements in $W$.  I think this problem is hard."
   ]
  },
  {
   "cell_type": "markdown",
   "metadata": {},
   "source": [
    "### Response\n",
    "\n"
   ]
  },
  {
   "cell_type": "markdown",
   "metadata": {},
   "source": [
    "We begin by defining the relationship between W, X and Y.\n",
    "We define $W$ to be: $$W=\\begin{pmatrix} w_{1,1} & w_{1,2} \\\\ w_{1,1} & w_{1,2}  \\end{pmatrix} $$\n",
    "First, we define X to be a matrix with columns of $x_i$.\n",
    "$$X = \\begin{pmatrix} x_1 & x_2 & x_3 \\end{pmatrix} = \n",
    "\\begin{pmatrix} x_{1,1} & x_{1,2} & x_{1,3} \\\\ x_{2,1} & x_{2,2} & x_{2,3}\\end{pmatrix}$$\n",
    "Next, we define Y to be a matrix with columns of $y_i$.\n",
    "$$Y = \\begin{pmatrix} y_1 & y_2 & y_3 \\end{pmatrix} = \n",
    "\\begin{pmatrix} y_{1,1} & y_{1,2} & y_{1,3} \\\\ y_{2,1} & y_{2,2} & y_{2,3}\\end{pmatrix}$$\n",
    "We can redefine the relationship then to be:\n",
    "$$WX=Y$$\n",
    "\n",
    "We can rearrange this relationship to be a different but true equation:\n",
    "$$\\begin{pmatrix} x_{1,1} & x_{1,2} & 0 & 0 \\\\ 0 & 0 & x_{1,1} & x_{1,2} \\\\x_{2,1} & x_{2,2} & 0 & 0 \\\\ 0 & 0 & x_{2,1} & x_{2,2} \\\\x_{3,1} & x_{3,2} & 0 & 0 \\\\ 0 & 0 & x_{3,1} & x_{3,2} \\end{pmatrix}\\begin{pmatrix} w_{1,1} \\\\ w_{1,2} \\\\ w_{2,1} \\\\ w_{2,2} \\end{pmatrix}=\\begin{pmatrix} y_{1,1} \\\\ y_{2,1} \\\\ y_{1,2} \\\\ y_{2,2} \\\\ y_{1,3} \\\\ y_{2,3}\\end{pmatrix}$$\n",
    "\n",
    "We then simply break down the first and third matrix into SVD factorization and solve for the values of $w_{1,1}, w_{1,2}, w_{2,1}, and w_{2,2}$"
   ]
  },
  {
   "cell_type": "code",
   "execution_count": 7,
   "metadata": {},
   "outputs": [
    {
     "data": {
      "text/plain": [
       "3×2 Array{Int64,2}:\n",
       " 2  1\n",
       " 0  0\n",
       " 0  1"
      ]
     },
     "execution_count": 7,
     "metadata": {},
     "output_type": "execute_result"
    }
   ],
   "source": [
    "[1 0; 0 0; 0 1]*[2 1; 0 1]"
   ]
  },
  {
   "cell_type": "markdown",
   "metadata": {},
   "source": [
    " ## 9. A Permutation of n \n",
    " is a rearrangement of the numbers 1 through n. Here is a random permutation of 1:5"
   ]
  },
  {
   "cell_type": "code",
   "execution_count": 8,
   "metadata": {},
   "outputs": [
    {
     "data": {
      "text/plain": [
       "5-element Array{Int64,1}:\n",
       " 5\n",
       " 3\n",
       " 1\n",
       " 4\n",
       " 2"
      ]
     },
     "execution_count": 8,
     "metadata": {},
     "output_type": "execute_result"
    }
   ],
   "source": [
    "using Random\n",
    "p = randperm(5)"
   ]
  },
  {
   "cell_type": "markdown",
   "metadata": {},
   "source": [
    "A Permutation matrix is row reordering of the identity matrix"
   ]
  },
  {
   "cell_type": "code",
   "execution_count": 9,
   "metadata": {},
   "outputs": [
    {
     "data": {
      "text/plain": [
       "5×5 Array{Int64,2}:\n",
       " 1  0  0  0  0\n",
       " 0  1  0  0  0\n",
       " 0  0  1  0  0\n",
       " 0  0  0  1  0\n",
       " 0  0  0  0  1"
      ]
     },
     "execution_count": 9,
     "metadata": {},
     "output_type": "execute_result"
    }
   ],
   "source": [
    "ident = Matrix{Int64}(I,5,5)"
   ]
  },
  {
   "cell_type": "code",
   "execution_count": 10,
   "metadata": {},
   "outputs": [
    {
     "data": {
      "text/plain": [
       "5×5 Array{Int64,2}:\n",
       " 0  0  0  0  1\n",
       " 0  0  1  0  0\n",
       " 1  0  0  0  0\n",
       " 0  0  0  1  0\n",
       " 0  1  0  0  0"
      ]
     },
     "execution_count": 10,
     "metadata": {},
     "output_type": "execute_result"
    }
   ],
   "source": [
    "ident[p,:]"
   ]
  },
  {
   "cell_type": "markdown",
   "metadata": {},
   "source": [
    "What is closest to the number of parameters that are needed for an n x n permutation matrix?\n",
    "    a) n^2  b) n   c)n!  d)n^n"
   ]
  },
  {
   "cell_type": "raw",
   "metadata": {},
   "source": [
    "b"
   ]
  },
  {
   "cell_type": "markdown",
   "metadata": {},
   "source": [
    "# 10. a Julia application of linear algebra\n",
    "Understanding this code is not required for this class, but is an extra for those interested.  All of you might want to look just a little and execute the lines though."
   ]
  },
  {
   "cell_type": "markdown",
   "metadata": {},
   "source": [
    " The signed distance to a hyperplane is one of those standard machine learning (and elsewhere!) codes.  In one commonly used notation, hyperplanes are written as the set of x for which θᵀx + θ₀ = 0 where θ is in Rⁿ and θ₀ is in R. The formula for the distance of a point p to this hyperplane is <br>\n",
    "      distance =  (θᵀp +θ₀ )/||θ||"
   ]
  },
  {
   "cell_type": "code",
   "execution_count": 11,
   "metadata": {},
   "outputs": [
    {
     "data": {
      "text/plain": [
       "d (generic function with 2 methods)"
      ]
     },
     "execution_count": 11,
     "metadata": {},
     "output_type": "execute_result"
    }
   ],
   "source": [
    "# Formula in Julia looks a lot like the math\n",
    "d(p,θ,θ₀) = (θ'p .+ θ₀)/norm(θ)\n",
    "\n",
    "# If you would like to annotate with types, this is also allowed\n",
    "# this says p and θ must be vectors and θ₀ a number\n",
    "d(p::Vector, θ::Vector, θ₀::Number) = (θ'p .+ θ₀)/norm(θ)"
   ]
  },
  {
   "cell_type": "code",
   "execution_count": 12,
   "metadata": {},
   "outputs": [
    {
     "data": {
      "text/plain": [
       "1.4790037973998442"
      ]
     },
     "execution_count": 12,
     "metadata": {},
     "output_type": "execute_result"
    }
   ],
   "source": [
    "n = 7\n",
    "d( rand(n), rand(n), rand() )"
   ]
  },
  {
   "cell_type": "markdown",
   "metadata": {},
   "source": [
    "Python is a very popular language these days.  It is really nice to have lots of friends who know the same language.  Python suffers, however, from the two language problem:  that efficient machine learning code tends to use C or C++, and even numpy tends to mix metaphors being sort of python like and sort of something different. "
   ]
  },
  {
   "cell_type": "markdown",
   "metadata": {},
   "source": [
    "Are we above or below the hyperplane?"
   ]
  },
  {
   "cell_type": "code",
   "execution_count": 13,
   "metadata": {},
   "outputs": [
    {
     "data": {
      "text/plain": [
       "which_side (generic function with 1 method)"
      ]
     },
     "execution_count": 13,
     "metadata": {},
     "output_type": "execute_result"
    }
   ],
   "source": [
    "which_side(p,θ,θ₀) = d(p,θ,θ₀)<0 ? \"I'm below\" : \"I'm above\" # Ternary operator"
   ]
  },
  {
   "cell_type": "code",
   "execution_count": 14,
   "metadata": {},
   "outputs": [
    {
     "data": {
      "text/plain": [
       "\"I'm below\""
      ]
     },
     "execution_count": 14,
     "metadata": {},
     "output_type": "execute_result"
    }
   ],
   "source": [
    "which_side(randn(n), rand(n), rand() )"
   ]
  },
  {
   "cell_type": "markdown",
   "metadata": {},
   "source": [
    "What if we have a matrix of 5 data points, each column is in R^n?"
   ]
  },
  {
   "cell_type": "code",
   "execution_count": 15,
   "metadata": {},
   "outputs": [
    {
     "data": {
      "text/plain": [
       "7×5 Array{Float64,2}:\n",
       " -1.37854     0.796789    1.53984   -0.341609    1.58997 \n",
       "  0.0657412   1.66258    -0.992653   0.827836   -0.72513 \n",
       " -0.188221   -1.03689    -2.39979   -0.468787    0.328374\n",
       "  1.19954     0.0560223  -0.26057    1.00022     0.683436\n",
       "  0.346487    1.41551    -1.35996    0.0145038  -0.551647\n",
       "  0.65805     0.966625   -0.464763   1.01704    -0.274129\n",
       " -2.40222     0.978375   -0.851793  -0.807815    0.730587"
      ]
     },
     "execution_count": 15,
     "metadata": {},
     "output_type": "execute_result"
    }
   ],
   "source": [
    "P = randn(n,5)"
   ]
  },
  {
   "cell_type": "code",
   "execution_count": 16,
   "metadata": {},
   "outputs": [
    {
     "data": {
      "text/plain": [
       "1×5 Array{Float64,2}:\n",
       " -1.41395  2.34798  -1.25333  0.324758  1.04122"
      ]
     },
     "execution_count": 16,
     "metadata": {},
     "output_type": "execute_result"
    }
   ],
   "source": [
    "distances = d( P, rand(n), rand() )  # Code evaluates five distances"
   ]
  },
  {
   "cell_type": "code",
   "execution_count": 17,
   "metadata": {},
   "outputs": [
    {
     "data": {
      "text/plain": [
       "1×5 Array{Float64,2}:\n",
       " -1.0  1.0  -1.0  1.0  1.0"
      ]
     },
     "execution_count": 17,
     "metadata": {},
     "output_type": "execute_result"
    }
   ],
   "source": [
    "sign.(distances)  # elementwise sign function tells you above or below"
   ]
  },
  {
   "cell_type": "markdown",
   "metadata": {},
   "source": [
    "Carrying around a θ and θ₀ separately seems silly.  How likely are you to remember that this is a pair next month?  Let's wrap them together:"
   ]
  },
  {
   "cell_type": "code",
   "execution_count": 18,
   "metadata": {},
   "outputs": [],
   "source": [
    "struct Hyperplane\n",
    "    θ  :: Vector\n",
    "    θ₀ :: Number\n",
    "end"
   ]
  },
  {
   "cell_type": "code",
   "execution_count": 19,
   "metadata": {},
   "outputs": [
    {
     "data": {
      "text/plain": [
       "Hyperplane([0.915452, 0.294099, 0.405087], 0.9995382853053136)"
      ]
     },
     "execution_count": 19,
     "metadata": {},
     "output_type": "execute_result"
    }
   ],
   "source": [
    "h = Hyperplane( rand(3), rand() )"
   ]
  },
  {
   "cell_type": "code",
   "execution_count": 20,
   "metadata": {},
   "outputs": [
    {
     "name": "stdout",
     "output_type": "stream",
     "text": [
      "Hyperplane\n",
      "  θ: Array{Float64}((3,)) [0.915452, 0.294099, 0.405087]\n",
      "  θ₀: Float64 0.9995382853053136\n"
     ]
    }
   ],
   "source": [
    "dump(h)  # see what's inside"
   ]
  },
  {
   "cell_type": "markdown",
   "metadata": {},
   "source": [
    "Let's make it easy to write the more natural distance to a hyperplane function"
   ]
  },
  {
   "cell_type": "code",
   "execution_count": 21,
   "metadata": {},
   "outputs": [
    {
     "data": {
      "text/plain": [
       "d (generic function with 3 methods)"
      ]
     },
     "execution_count": 21,
     "metadata": {},
     "output_type": "execute_result"
    }
   ],
   "source": [
    "d(p::Vector,  h::Hyperplane )  = d(p,h.θ,h.θ₀)"
   ]
  },
  {
   "cell_type": "code",
   "execution_count": 22,
   "metadata": {},
   "outputs": [
    {
     "data": {
      "text/plain": [
       "-1.1128557597343645"
      ]
     },
     "execution_count": 22,
     "metadata": {},
     "output_type": "execute_result"
    }
   ],
   "source": [
    "h = Hyperplane( rand(n), rand() )\n",
    "d( randn(n), h)"
   ]
  },
  {
   "cell_type": "markdown",
   "metadata": {},
   "source": [
    "This professor encourages good coding, where mathemtical abstractions are wrapped with their names rather than being isolated as greek letters."
   ]
  },
  {
   "cell_type": "markdown",
   "metadata": {},
   "source": [
    "Let's generate a vector of 10 hyperplanes:"
   ]
  },
  {
   "cell_type": "code",
   "execution_count": 23,
   "metadata": {},
   "outputs": [
    {
     "data": {
      "text/plain": [
       "10-element Array{Hyperplane,1}:\n",
       " Hyperplane([0.189505, 0.831027, 0.664038], 0.12456867876869482) \n",
       " Hyperplane([0.108004, 0.175439, 0.145053], 0.873857285359878)   \n",
       " Hyperplane([0.893731, 0.710195, 0.730886], 0.12073429719640161) \n",
       " Hyperplane([0.992766, 0.380624, 0.514421], 0.6250751841504534)  \n",
       " Hyperplane([0.448099, 0.453412, 0.743219], 0.7319981865935548)  \n",
       " Hyperplane([0.831305, 0.0047206, 0.111941], 0.8096815658326035) \n",
       " Hyperplane([0.350493, 0.0648901, 0.831784], 0.17640297582660347)\n",
       " Hyperplane([0.641187, 0.682606, 0.237959], 0.39354420502349097) \n",
       " Hyperplane([0.694397, 0.860859, 0.690581], 0.8224045176340153)  \n",
       " Hyperplane([0.389669, 0.333458, 0.358392], 0.07703612448533725) "
      ]
     },
     "execution_count": 23,
     "metadata": {},
     "output_type": "execute_result"
    }
   ],
   "source": [
    "hyperplanes = [Hyperplane( rand(3), rand() ) for i=1:10 ]"
   ]
  },
  {
   "cell_type": "markdown",
   "metadata": {},
   "source": [
    "Notice this is 10-element vector whose elements are hyperplanes !!"
   ]
  },
  {
   "cell_type": "markdown",
   "metadata": {},
   "source": [
    "Let's see if a random point is above or below these hyperplanes."
   ]
  },
  {
   "cell_type": "code",
   "execution_count": 24,
   "metadata": {},
   "outputs": [
    {
     "data": {
      "text/plain": [
       "3-element Array{Float64,1}:\n",
       "  0.7712974179098834\n",
       " -0.4635087906725623\n",
       " -1.4717581686271488"
      ]
     },
     "execution_count": 24,
     "metadata": {},
     "output_type": "execute_result"
    }
   ],
   "source": [
    "p = randn(3)"
   ]
  },
  {
   "cell_type": "code",
   "execution_count": 25,
   "metadata": {},
   "outputs": [
    {
     "data": {
      "text/plain": [
       "10-element Array{Float64,1}:\n",
       " -1.0104266484557254  \n",
       "  2.6288289753047867  \n",
       " -0.4388137755043886  \n",
       "  0.38714072479597544 \n",
       " -0.2312012145088201  \n",
       "  1.530631982468101   \n",
       " -0.8923489948073887  \n",
       "  0.22920655807674362 \n",
       " -0.044015976495888225\n",
       " -0.4865701019195739  "
      ]
     },
     "execution_count": 25,
     "metadata": {},
     "output_type": "execute_result"
    }
   ],
   "source": [
    "d.( [p] , hyperplanes)"
   ]
  },
  {
   "cell_type": "markdown",
   "metadata": {},
   "source": [
    "or maybe more readable"
   ]
  },
  {
   "cell_type": "code",
   "execution_count": 26,
   "metadata": {},
   "outputs": [
    {
     "data": {
      "text/plain": [
       "10-element Array{Float64,1}:\n",
       " -1.0104266484557254  \n",
       "  2.6288289753047867  \n",
       " -0.4388137755043886  \n",
       "  0.38714072479597544 \n",
       " -0.2312012145088201  \n",
       "  1.530631982468101   \n",
       " -0.8923489948073887  \n",
       "  0.22920655807674362 \n",
       " -0.044015976495888225\n",
       " -0.4865701019195739  "
      ]
     },
     "execution_count": 26,
     "metadata": {},
     "output_type": "execute_result"
    }
   ],
   "source": [
    "[  d(p, h) for h ∈ hyperplanes ]"
   ]
  },
  {
   "cell_type": "code",
   "execution_count": null,
   "metadata": {},
   "outputs": [],
   "source": []
  },
  {
   "cell_type": "code",
   "execution_count": null,
   "metadata": {},
   "outputs": [],
   "source": []
  }
 ],
 "metadata": {
  "kernelspec": {
   "display_name": "Julia 1.0.0",
   "language": "julia",
   "name": "julia-1.0"
  },
  "language_info": {
   "file_extension": ".jl",
   "mimetype": "application/julia",
   "name": "julia",
   "version": "1.0.0"
  }
 },
 "nbformat": 4,
 "nbformat_minor": 2
}
