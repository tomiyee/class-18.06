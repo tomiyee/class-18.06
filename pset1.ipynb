{
 "cells": [
  {
   "cell_type": "markdown",
   "metadata": {},
   "source": [
    "# 18.06 Spring 2019 pset 1\n",
    "\n",
    "## due Wednesday 2/13 at 10:55am by submitting pdf through Gradescope\n",
    "\n",
    "This problem set is in the form of a [Julia](http://julialang.org/) *notebook* (using the [Jupyter](http://jupyter.org/)/[IJulia](https://github.com/JuliaLang/IJulia.jl) browser-based interface to interactive programming).  We will be using the Julia language throughout the term for mathematical and computational explorations.  Jupyter (an amalgam of Julia/Python/R)\n",
    "is a language agnostic notbeook interface widely used for simple calculations .  \n",
    "\n",
    "You can run this notebook without installing anything by logging in at [JuliaBox](https://juliabox.com/).  Just download the notebook file (a `.ipynb` file) by clicking the download icon at the upper right, then drag it onto the JuliaBox dashboard to upload it there. (We will be using Julia version 1.0 or later). (Avoid the json format by downloading the link or at least having the ipynb extension.)\n",
    "\n",
    "Some of the problems are pencil-and-paper (we just happen to use the notebook to describe them), and some of them require you to run the code in the notebook to see what happens and then explain it.  To **run the code** in an input cell, **just click on the cell and then type shift-return**; see also the \"Help\" menu in the notebook. When we say, check, we are asking you to run the code, but not necessarily write anything.\n",
    "\n",
    "When you submit your pset, you may handwrite or type, but submit **clearly labeled PDFs**.   (An app like Tiny Scanner for your phone makes it easier to scan black-and-white documents into legible PDF files using a cell-phone camera.) For printing a notebook to PDF, you may find that the Jupyter Download-as-PDF or printing *Print Preview* (in the *File* menu at the top of the notebook interface) produces a nicer file than directly printing from your browser."
   ]
  },
  {
   "cell_type": "markdown",
   "metadata": {},
   "source": [
    "## Problem 1 (10 points)\n",
    "\n",
    "Warm up problem.  On a clock, 12 unit vectors point to each hour, uniformly spaced. What is the sum of all of these vectors?  Why?\n",
    "\n"
   ]
  },
  {
   "cell_type": "raw",
   "metadata": {},
   "source": [
    "<0,0>\n",
    "Every unit vector can be paired with another vector pointing in the exact\n",
    "opposite direction. Therefore the sum of all these vectors is 0."
   ]
  },
  {
   "cell_type": "markdown",
   "metadata": {},
   "source": [
    "## Problem 2 (10 points)"
   ]
  },
  {
   "cell_type": "markdown",
   "metadata": {},
   "source": [
    "Warm up problem.  On the [neural net, matrix times vector,  diagram](https://docs.google.com/presentation/d/1znZ9IuK7Th3bjMRttfuCbWT1gSQmwKLtLx-XLlbjp8k/edit#slide=id.g4ebab5b6c8_79_6) that we saw in class, if there are p nodes (circles) on the left and q nodes on the right, then how many connections are there in terms of p and q?  (In the diagram example there were 15.)"
   ]
  },
  {
   "cell_type": "code",
   "execution_count": null,
   "metadata": {},
   "outputs": [],
   "source": [
    "There are p*q connections."
   ]
  },
  {
   "cell_type": "markdown",
   "metadata": {},
   "source": [
    "##  In the next series of problems we will take a big tour of important ideas, but only in the 2x2 case.  Later on we will discuss the generalizations to larger matrices."
   ]
  },
  {
   "cell_type": "markdown",
   "metadata": {},
   "source": [
    "## Problem 3 (10 points)"
   ]
  },
  {
   "cell_type": "markdown",
   "metadata": {},
   "source": [
    "What is the formula for the inverse of the 2x2 matrix\n",
    " $\\begin{pmatrix} a & b \\\\ c & d \\end{pmatrix}$? (Answer is on Strang p. 84) On what conditions for a,b,c,d does the inverse exist?"
   ]
  },
  {
   "cell_type": "markdown",
   "metadata": {},
   "source": [
    "### Response\n",
    "\n",
    "The formula for the inverse of the 2x2 matrix \n",
    "$\\begin{pmatrix} a & b \\\\ c & d \\end{pmatrix}$ is $\\frac{1}{ad-bc}\\begin{pmatrix} d & -b \\\\ -c & a \\end{pmatrix}$\n",
    "\n",
    "The inverse exists iff $ad \\neq cb$"
   ]
  },
  {
   "cell_type": "markdown",
   "metadata": {},
   "source": [
    "## Problem 4 (10 points)"
   ]
  },
  {
   "cell_type": "markdown",
   "metadata": {},
   "source": [
    "A worked matrix factorization problem is at the end of this notebook.\n",
    "\n",
    "This is called the 2 x 2 LU factorization: Given $A = \\begin{pmatrix} a & b \\\\ c & d \\end{pmatrix}$, find a factorization of $A$ in the form $ \\begin{pmatrix} 1 & 0 \\\\ x & 1 \\end{pmatrix}\\begin{pmatrix} u & v \\\\ 0 & w \\end{pmatrix}$.\n",
    "\n",
    "(Write down x,u,v,w in terms of a,b,c,d.) On what conditions for a,b,c,d does the LU factorization exist? (This answer is different from that of Problem 3.)"
   ]
  },
  {
   "cell_type": "markdown",
   "metadata": {},
   "source": [
    "### Response\n",
    "\n",
    "x = b/a\n",
    "\n",
    "u = a\n",
    "\n",
    "v = (d-b)*a/c\n",
    "\n",
    "w = d\n",
    "\n",
    "The condition is that $a\\neq 0$ and $c \\neq 0$"
   ]
  },
  {
   "cell_type": "markdown",
   "metadata": {},
   "source": [
    "## Problem 5 (10 points)"
   ]
  },
  {
   "cell_type": "markdown",
   "metadata": {},
   "source": [
    "A 2x2 rotation matrix has the form $ \\begin{pmatrix} \\cos \\theta & -\\sin \\theta \\\\ \\sin \\theta & \\cos \\theta \\end{pmatrix}$.  Remembering $\\sin^2 \\theta + \\cos^2 \\theta =1$, what is \n",
    "$ \\begin{pmatrix} \\cos \\theta & \\sin \\theta \\\\ -\\sin \\theta & \\cos \\theta \\end{pmatrix}$\n",
    "$ \\begin{pmatrix} \\cos \\theta & -\\sin \\theta \\\\ \\sin \\theta & \\cos \\theta \\end{pmatrix}$?\n",
    "<br>\n",
    "\n",
    "This is called the 2x2 QR factorization: Given $A = \\begin{pmatrix} a & b \\\\ c & d \\end{pmatrix}$, find a factorization of $A$ in the form $ \\begin{pmatrix} \\cos \\theta & -\\sin \\theta \\\\ \\sin \\theta & \\cos \\theta \\end{pmatrix}\\begin{pmatrix} u & v \\\\ 0 & w \\end{pmatrix}$. The matrix $Q = \\begin{pmatrix} \\cos \\theta & -\\sin \\theta \\\\ \\sin \\theta & \\cos \\theta \\end{pmatrix}$ is known as a 2x2 rotation matrix.  (Hint1: what are the polar coordinates for the point(a,c)?? You should be able to write a formula for  $u,\\cos \\theta,\\sin \\theta$ from a and c using only division and square roots. (at least if a and c are not both 0).   Hint 2, use what we just mentioned about rotation matrices.)"
   ]
  },
  {
   "cell_type": "markdown",
   "metadata": {},
   "source": [
    "\n",
    "### Response\n",
    "\n",
    "$\\theta = \\tan^{-1}(\\frac{c}{a})$\n",
    "\n",
    "\n",
    "\n",
    "$ \\begin{pmatrix} \\cos \\theta & \\sin \\theta \\\\ -\\sin \\theta & \\cos \\theta \\end{pmatrix}$\n",
    "$ \\begin{pmatrix} \\cos \\theta & -\\sin \\theta \\\\ \\sin \\theta & \\cos \\theta \\end{pmatrix}$\n",
    "=\n",
    "$ \\begin{pmatrix} 1 & 0 \\\\ 0 & 1 \\end{pmatrix}$\n"
   ]
  },
  {
   "cell_type": "markdown",
   "metadata": {},
   "source": [
    "## Problem 6 (10 points)\n",
    "The 2x2 singular value decomposition: An SVD has the form \n",
    "$A = \\begin{pmatrix} a & b \\\\ c & d \\end{pmatrix}$\n",
    "= (rotation 1)(diagonal with non-negative entries)(rotation 2)\n",
    "= $ \\begin{pmatrix} \\cos \\theta & -\\sin \\theta \\\\ \\sin \\theta & \\cos \\theta \\end{pmatrix}$\n",
    "$ \\begin{pmatrix}  \\sigma_1 & 0 \\\\  0  & \\sigma_2 \\end{pmatrix}$\n",
    "$ \\begin{pmatrix} \\cos \\phi & \\sin \\phi \\\\ -\\sin \\phi & \\cos \\phi \\end{pmatrix}$.  We will see in this class that the SVD is very important in data science, biology, and so many fields.\n",
    "\n",
    "Compute $A$ if $\\theta=\\pi/6$ and $\\phi=\\pi/3$ and $\\sigma_1=\\sigma_2=1$.\n",
    "\n"
   ]
  },
  {
   "cell_type": "markdown",
   "metadata": {},
   "source": [
    "### Response\n",
    "\n",
    "$ \\begin{pmatrix} \\sqrt{3}/2 & -1/2 \\\\ 1/2 & \\sqrt{3}/2 \\end{pmatrix}$\n",
    "$ \\begin{pmatrix}  1 & 0 \\\\  0  & 1 \\end{pmatrix}$\n",
    "$ \\begin{pmatrix} 1/2 & \\sqrt{3}/2 \\\\ -\\sqrt{3}/2 & 1/2 \\end{pmatrix}$\n",
    "=\n",
    "$ \\begin{pmatrix} \\sqrt{3}/2 & 1/2 \\\\ -1/2 & \\sqrt{3}/2 \\end{pmatrix}$\n"
   ]
  },
  {
   "cell_type": "code",
   "execution_count": 1,
   "metadata": {},
   "outputs": [
    {
     "data": {
      "text/plain": [
       "2×2 Array{Float64,2}:\n",
       "  0.866025  0.5     \n",
       " -0.5       0.866025"
      ]
     },
     "execution_count": 1,
     "metadata": {},
     "output_type": "execute_result"
    }
   ],
   "source": [
    "# Check your work numerically\n",
    " θ = π/6\n",
    " ϕ = π/3\n",
    " σ₁ = σ₂ = 1\n",
    "[cos(θ) -sin(θ);sin(θ) cos(θ)] * [1 0;0 1] * [cos(ϕ) sin(ϕ);-sin(ϕ) cos(ϕ)]"
   ]
  },
  {
   "cell_type": "markdown",
   "metadata": {},
   "source": [
    "## Next Problems investigate structured matrices"
   ]
  },
  {
   "cell_type": "code",
   "execution_count": 30,
   "metadata": {},
   "outputs": [
    {
     "data": {
      "text/plain": [
       "5×5 Array{Int64,2}:\n",
       " 3  6  6  4  1\n",
       " 5  3  9  2  4\n",
       " 5  1  1  8  9\n",
       " 7  4  7  5  5\n",
       " 6  4  4  6  4"
      ]
     },
     "execution_count": 30,
     "metadata": {},
     "output_type": "execute_result"
    }
   ],
   "source": [
    "n = 5\n",
    "D =  rand(1:9, n, n)  # Create a random n x n matrix with the digits 1 through 9"
   ]
  },
  {
   "cell_type": "markdown",
   "metadata": {},
   "source": [
    "Put your cursor and click on the cell above and use **control-enter** to run the cell a few times without moving to another cell. If we asked how many numbers are stored in this n by n matrix you would say $n^2$."
   ]
  },
  {
   "cell_type": "code",
   "execution_count": 31,
   "metadata": {},
   "outputs": [
    {
     "data": {
      "text/plain": [
       "5×5 Diagonal{Int64,Array{Int64,1}}:\n",
       " 8  ⋅  ⋅  ⋅  ⋅\n",
       " ⋅  6  ⋅  ⋅  ⋅\n",
       " ⋅  ⋅  4  ⋅  ⋅\n",
       " ⋅  ⋅  ⋅  7  ⋅\n",
       " ⋅  ⋅  ⋅  ⋅  2"
      ]
     },
     "execution_count": 31,
     "metadata": {},
     "output_type": "execute_result"
    }
   ],
   "source": [
    "using LinearAlgebra\n",
    "n = 5\n",
    "D =  Diagonal(rand(1:9, n))  # Create a random n x n digonal matrix with the digits 1 through 9"
   ]
  },
  {
   "cell_type": "markdown",
   "metadata": {},
   "source": [
    "While this is an n by n matrix, the number of parameters is n (which is what Julia stores in memory.)"
   ]
  },
  {
   "cell_type": "markdown",
   "metadata": {},
   "source": [
    "## Problem 7 (10 points): As a function of n, how many parameters are there in an n by n (upper) Bidigonal Matrix?"
   ]
  },
  {
   "cell_type": "code",
   "execution_count": 119,
   "metadata": {},
   "outputs": [
    {
     "data": {
      "text/plain": [
       "5×5 Bidiagonal{Int64,Array{Int64,1}}:\n",
       " 5  1  ⋅  ⋅  ⋅\n",
       " ⋅  2  5  ⋅  ⋅\n",
       " ⋅  ⋅  1  4  ⋅\n",
       " ⋅  ⋅  ⋅  4  3\n",
       " ⋅  ⋅  ⋅  ⋅  6"
      ]
     },
     "execution_count": 119,
     "metadata": {},
     "output_type": "execute_result"
    }
   ],
   "source": [
    "B = Bidiagonal(rand(1:9,n), rand(1:9,n-1), :U)"
   ]
  },
  {
   "cell_type": "code",
   "execution_count": 32,
   "metadata": {},
   "outputs": [
    {
     "data": {
      "text/plain": [
       "9"
      ]
     },
     "execution_count": 32,
     "metadata": {},
     "output_type": "execute_result"
    }
   ],
   "source": [
    "2n-1"
   ]
  },
  {
   "cell_type": "markdown",
   "metadata": {},
   "source": [
    "## Problem 8 (10 points): As a function of n, how many (independent) parameters are there in an n by n Symmetric Tridiagonal Matrix?  Why is the answer the same as for the bidiagonal?"
   ]
  },
  {
   "cell_type": "code",
   "execution_count": 120,
   "metadata": {},
   "outputs": [
    {
     "data": {
      "text/plain": [
       "5×5 SymTridiagonal{Int64,Array{Int64,1}}:\n",
       " 6  9  ⋅  ⋅  ⋅\n",
       " 9  8  8  ⋅  ⋅\n",
       " ⋅  8  2  6  ⋅\n",
       " ⋅  ⋅  6  1  3\n",
       " ⋅  ⋅  ⋅  3  6"
      ]
     },
     "execution_count": 120,
     "metadata": {},
     "output_type": "execute_result"
    }
   ],
   "source": [
    "S = SymTridiagonal(rand(1:9,n), rand(1:9,n-1))"
   ]
  },
  {
   "cell_type": "code",
   "execution_count": 33,
   "metadata": {},
   "outputs": [
    {
     "data": {
      "text/plain": [
       "9"
      ]
     },
     "execution_count": 33,
     "metadata": {},
     "output_type": "execute_result"
    }
   ],
   "source": [
    "2n-1\n",
    "# The upper and lower part of the tridiagonal are not independendent"
   ]
  },
  {
   "cell_type": "markdown",
   "metadata": {},
   "source": [
    "## Problem 9 (10 points) A symmetric \"rank 1\" matrix has the form $A_{ij} = v_i v_j$ where $v$ is a vector. Why does such a matrix really have only $n$ parameters?"
   ]
  },
  {
   "cell_type": "code",
   "execution_count": 29,
   "metadata": {},
   "outputs": [
    {
     "data": {
      "text/plain": [
       "5×5 Array{Int64,2}:\n",
       " 1   2   3   4   5\n",
       " 2   4   6   8  10\n",
       " 3   6   9  12  15\n",
       " 4   8  12  16  20\n",
       " 5  10  15  20  25"
      ]
     },
     "execution_count": 29,
     "metadata": {},
     "output_type": "execute_result"
    }
   ],
   "source": [
    "#Example\n",
    "v = [1,2,3,4,5]\n",
    "[vi*vj for vi∈v, vj∈v] "
   ]
  },
  {
   "cell_type": "code",
   "execution_count": 160,
   "metadata": {},
   "outputs": [
    {
     "name": "stdout",
     "output_type": "stream",
     "text": [
      "[4, 1, 9, 3, 7]\n"
     ]
    },
    {
     "data": {
      "text/plain": [
       "5×5 Array{Int64,2}:\n",
       " 16  4  36  12  28\n",
       "  4  1   9   3   7\n",
       " 36  9  81  27  63\n",
       " 12  3  27   9  21\n",
       " 28  7  63  21  49"
      ]
     },
     "execution_count": 160,
     "metadata": {},
     "output_type": "execute_result"
    }
   ],
   "source": [
    "v = rand(1:9,n)\n",
    "println(v)\n",
    "[vi*vj for vi∈v, vj∈v] "
   ]
  },
  {
   "cell_type": "markdown",
   "metadata": {},
   "source": [
    "It is because if you only store the first row of n values, you can determine the rest of the values by multiplying\n",
    "the first row by the number of rows down."
   ]
  },
  {
   "cell_type": "markdown",
   "metadata": {},
   "source": [
    "## Problem 10 (10 points) A general \"rank 1\" matrix has the form $A_{ij}=v_iw_j$ where $v$ and $w$ are vectors of size $m$ and $n$ respectively.  Think of a reason why this matrix really has only $m+n-1$ parameters.\n",
    "(If it helps, you can assume \"generically\" that the (1,1) entry is not 0.)"
   ]
  },
  {
   "cell_type": "code",
   "execution_count": 166,
   "metadata": {},
   "outputs": [
    {
     "name": "stdout",
     "output_type": "stream",
     "text": [
      "[9, 5, 6]\n",
      "[2, 2, 1, 1]\n"
     ]
    },
    {
     "data": {
      "text/plain": [
       "3×4 Array{Int64,2}:\n",
       " 18  18  9  9\n",
       " 10  10  5  5\n",
       " 12  12  6  6"
      ]
     },
     "execution_count": 166,
     "metadata": {},
     "output_type": "execute_result"
    }
   ],
   "source": [
    "v = rand(1:9,3)\n",
    "w = rand(1:9,4)\n",
    "println(v)\n",
    "println(w)\n",
    "[vi*wj for vi∈v, wj∈w]"
   ]
  },
  {
   "cell_type": "code",
   "execution_count": 42,
   "metadata": {},
   "outputs": [
    {
     "data": {
      "text/plain": [
       "\"The reason is that you can determine the entire matrix using only the contents of the two matrices, and\\nthat you can factor out a value in the parameters to reduce the number of parameters by one.\""
      ]
     },
     "execution_count": 42,
     "metadata": {},
     "output_type": "execute_result"
    }
   ],
   "source": [
    "😱 = \"The reason is that you can determine the entire matrix using only the contents of the two matrices, and\n",
    "that you can factor out a value in the parameters to reduce the number of parameters by one.\""
   ]
  },
  {
   "cell_type": "markdown",
   "metadata": {},
   "source": [
    "## Sample 2x2 Matrix Factorization Problem"
   ]
  },
  {
   "cell_type": "markdown",
   "metadata": {},
   "source": [
    "A 2x2 symmetric $A$ has the form  $A = \\begin{pmatrix} x & y \\\\ y & z \\end{pmatrix}$. Find a factorization of $A$ in the form $ \\begin{pmatrix} 1 & 0 \\\\ a & 1 \\end{pmatrix}\n",
    "            \\begin{pmatrix} d_1 & 0 \\\\ 0 & d_2 \\end{pmatrix}\n",
    "           \\begin{pmatrix} 1 & a \\\\ 0 & 1 \\end{pmatrix}$. (Solve for $a,d_1,d_2$ in terms of x,y, and z).  When does this factorization not exist?\n",
    "\n"
   ]
  },
  {
   "cell_type": "markdown",
   "metadata": {},
   "source": [
    "Solution:  we can multiply out\n",
    "$A = \\begin{pmatrix} x & y \\\\ y & z \\end{pmatrix}$=$ \\begin{pmatrix} 1 & 0 \\\\ a & 1 \\end{pmatrix}\n",
    "            \\begin{pmatrix} d_1 & 0 \\\\ 0 & d_2 \\end{pmatrix}\n",
    "           \\begin{pmatrix} 1 & a \\\\ 0 & 1 \\end{pmatrix}$ to get\n",
    "$ \\begin{pmatrix} 1 & 0 \\\\ a & 1 \\end{pmatrix}\n",
    "\\begin{pmatrix} d_1 & d_1 a \\\\ 0 & d_2 \\end{pmatrix} =\n",
    "\\begin{pmatrix} d_1 & d_1 a \\\\ d_1 a & d_1 a^2 + d_2 \\end{pmatrix}. $ <br>\n",
    "We immediately see from the (1,1) entry that $d_1=x$. <br>\n",
    "From the (1,2) or (2,1) entry we see that $d_1a=y$ or $a=y/d_1=y/x$.\n",
    "There is one entry left, the (2,2) entry which tells us that $z=d_1 a^2 + d_2$ or $d_2 = z-d_1 a^2 = z - y^2/x$. <br>\n",
    "\n",
    "In summary $a=y/x, d_1=x$ and $d_2 = z-y^2/x$.  We have thus concluded that the following factorization always holds **unless x=0**: <br>\n",
    "$\\begin{pmatrix} x & y \\\\ y & z \\end{pmatrix} = \\begin{pmatrix} 1 & 0 \\\\ y/x & 1 \\end{pmatrix}\n",
    "            \\begin{pmatrix} x & 0 \\\\ 0 & z-y^2/x \\end{pmatrix}\n",
    "           \\begin{pmatrix} 1 & y/x \\\\ 0 & 1 \\end{pmatrix}$"
   ]
  },
  {
   "cell_type": "markdown",
   "metadata": {},
   "source": [
    "While not at all required by this problem, if you like you can check your work with some numbers.  This won't be possible during an exam, but it's nice to do right now."
   ]
  },
  {
   "cell_type": "code",
   "execution_count": 39,
   "metadata": {},
   "outputs": [
    {
     "data": {
      "text/plain": [
       "2×2 Array{Float64,2}:\n",
       " 0.804518  0.603452\n",
       " 0.603452  0.496319"
      ]
     },
     "metadata": {},
     "output_type": "display_data"
    },
    {
     "data": {
      "text/plain": [
       "2×2 Array{Float64,2}:\n",
       " 0.804518  0.603452\n",
       " 0.603452  0.496319"
      ]
     },
     "metadata": {},
     "output_type": "display_data"
    }
   ],
   "source": [
    "x,y,z = rand(3)\n",
    "a = y/x\n",
    "d₁ = x\n",
    "d₂ = z - y^2/x\n",
    "display([x y;y z])\n",
    "display( [1 0;a 1] * [d₁ 0;0 d₂] * [1 a;0 1] )"
   ]
  },
  {
   "cell_type": "markdown",
   "metadata": {},
   "source": [
    "You can use [control enter] a few times in the cell above to test as many cases that would convince you that you are right."
   ]
  },
  {
   "cell_type": "code",
   "execution_count": null,
   "metadata": {},
   "outputs": [],
   "source": []
  }
 ],
 "metadata": {
  "kernelspec": {
   "display_name": "Julia 1.0.0",
   "language": "julia",
   "name": "julia-1.0"
  },
  "language_info": {
   "file_extension": ".jl",
   "mimetype": "application/julia",
   "name": "julia",
   "version": "1.0.0"
  }
 },
 "nbformat": 4,
 "nbformat_minor": 2
}
