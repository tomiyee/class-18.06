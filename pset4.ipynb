{
 "cells": [
  {
   "cell_type": "markdown",
   "metadata": {},
   "source": [
    "# 18.06 Spring2019  pset 4\n",
    "## due Friday  3/8 at 10:55am\n",
    "\n",
    "(pset 5 will be due Wednesday 3/14)"
   ]
  },
  {
   "cell_type": "markdown",
   "metadata": {},
   "source": [
    "(1) Let A=UΣVᵀ be the compact svd of A.  Write the projection matrix onto the column space of A in simplest terms using possibly U,Σ, or V. "
   ]
  },
  {
   "cell_type": "markdown",
   "metadata": {},
   "source": [
    "## Problem 1 Response\n",
    "\\begin{align*}\n",
    "P &= A(AᵀA)^{-1}Aᵀ \\\\\n",
    "&= UΣVᵀ((UΣVᵀ)ᵀ UΣVᵀ)^{-1}(UΣVᵀ)ᵀ \\\\\n",
    "&= UΣVᵀ(VΣ^2Vᵀ)^{-1}VΣUᵀ \\\\\n",
    "&= UΣVᵀVΣ^{-2}VᵀVΣUᵀ \\\\\n",
    "&= UΣΣ^{-2}ΣUᵀ \\\\\n",
    "P &= UUᵀ \\\\\n",
    "\\end{align*}"
   ]
  },
  {
   "cell_type": "markdown",
   "metadata": {},
   "source": [
    "(2) Let A be the matrix below with the full SVD (Note: numbers with an e-16 or e-15 may be considered to be 0)"
   ]
  },
  {
   "cell_type": "code",
   "execution_count": 2,
   "metadata": {},
   "outputs": [
    {
     "data": {
      "text/plain": [
       "3×3 Array{Int64,2}:\n",
       " 1  3  1\n",
       " 3  8  2\n",
       " 2  4  0"
      ]
     },
     "execution_count": 2,
     "metadata": {},
     "output_type": "execute_result"
    }
   ],
   "source": [
    "A = [1 3 1;3 8 2;2 4 0]"
   ]
  },
  {
   "cell_type": "code",
   "execution_count": 3,
   "metadata": {},
   "outputs": [
    {
     "data": {
      "text/plain": [
       "3×3 Array{Float64,2}:\n",
       " -0.31854   -0.369631  -0.872872\n",
       " -0.848437  -0.299463   0.436436\n",
       " -0.422713   0.879599  -0.218218"
      ]
     },
     "metadata": {},
     "output_type": "display_data"
    },
    {
     "data": {
      "text/plain": [
       "3-element Array{Float64,1}:\n",
       " 10.335397940329974    \n",
       "  1.0860706307708408   \n",
       "  5.333338897353784e-16"
      ]
     },
     "metadata": {},
     "output_type": "display_data"
    },
    {
     "data": {
      "text/plain": [
       "3×3 Adjoint{Float64,Array{Float64,2}}:\n",
       " -0.358891   0.452251    0.816497\n",
       " -0.912783   0.0127012  -0.408248\n",
       " -0.195001  -0.8918      0.408248"
      ]
     },
     "metadata": {},
     "output_type": "display_data"
    }
   ],
   "source": [
    "using LinearAlgebra\n",
    "U,s,V =svd(A, full=true)\n",
    "display(U)\n",
    "display(s)\n",
    "display(V)"
   ]
  },
  {
   "cell_type": "code",
   "execution_count": 5,
   "metadata": {},
   "outputs": [
    {
     "data": {
      "text/plain": [
       "3-element Array{Float64,1}:\n",
       " -3.6936853826270815\n",
       " -9.0941733223999   \n",
       " -3.4136051142914843"
      ]
     },
     "execution_count": 5,
     "metadata": {},
     "output_type": "execute_result"
    }
   ],
   "source": [
    "U*s"
   ]
  },
  {
   "cell_type": "markdown",
   "metadata": {},
   "source": [
    "A) argue that (b₁,b₂,b₃) is the column space if 4b₁-2b₂+b₃=0  (you can use Julia or eyeball and approximate the right numbers to two digits or so)"
   ]
  },
  {
   "cell_type": "markdown",
   "metadata": {},
   "source": [
    "B) What combinations of rows of A gives the zero row?"
   ]
  },
  {
   "cell_type": "markdown",
   "metadata": {},
   "source": [
    "C) Eyeballing the numbers some more, what combination of columns of A gives the zero column?"
   ]
  },
  {
   "cell_type": "code",
   "execution_count": null,
   "metadata": {},
   "outputs": [],
   "source": [
    "# D) What value of i would have made the answer to A and B easier? \n",
    "# Type it in and execute.\n",
    "i = \n",
    "U[:,i]/U[i,i]"
   ]
  },
  {
   "cell_type": "markdown",
   "metadata": {},
   "source": [
    "(3)  In the below we practice finding the general solution to Ax=b, in the context of a floating point computation.  You should be able to eyeball the solutions and write nice numbers, assuming that reasonable rounding and approximate guessing will work out."
   ]
  },
  {
   "cell_type": "code",
   "execution_count": 2,
   "metadata": {},
   "outputs": [
    {
     "data": {
      "text/plain": [
       "3×4 Array{Int64,2}:\n",
       " 1  3  1  2\n",
       " 2  6  4  8\n",
       " 0  0  2  4"
      ]
     },
     "execution_count": 2,
     "metadata": {},
     "output_type": "execute_result"
    }
   ],
   "source": [
    "A = [1 3 1 2;2 6 4 8; 0 0 2 4]"
   ]
  },
  {
   "cell_type": "code",
   "execution_count": 3,
   "metadata": {},
   "outputs": [
    {
     "ename": "UndefVarError",
     "evalue": "UndefVarError: svd not defined",
     "output_type": "error",
     "traceback": [
      "UndefVarError: svd not defined",
      "",
      "Stacktrace:",
      " [1] top-level scope at In[3]:1"
     ]
    }
   ],
   "source": [
    "# using LinearAlgebra\n",
    "U,s,V =svd(A, full=true)\n",
    "display(U)\n",
    "display(s)\n",
    "display(V)"
   ]
  },
  {
   "cell_type": "markdown",
   "metadata": {},
   "source": [
    "Suppose we calculate (and we ignore floating point effects)"
   ]
  },
  {
   "cell_type": "code",
   "execution_count": 4,
   "metadata": {},
   "outputs": [
    {
     "ename": "UndefVarError",
     "evalue": "UndefVarError: U not defined",
     "output_type": "error",
     "traceback": [
      "UndefVarError: U not defined",
      "",
      "Stacktrace:",
      " [1] top-level scope at In[4]:1"
     ]
    }
   ],
   "source": [
    "U*U'*[-.5, 2, 3] #Careful this is the full U"
   ]
  },
  {
   "cell_type": "markdown",
   "metadata": {},
   "source": [
    "A) what does the above say about whether Ax=b has a solution? <br>\n",
    "B) \n",
    "Find the right r in the below. Fill it in and execute. <br>\n",
    "C) What does the below say about the solution to Ax=b? <br> D)Convert these decimals to a simple fraction and check by hand."
   ]
  },
  {
   "cell_type": "code",
   "execution_count": 37,
   "metadata": {},
   "outputs": [
    {
     "data": {
      "text/plain": [
       "4-element Array{Float64,1}:\n",
       " -0.1999999999999994\n",
       " -0.6000000000000001\n",
       "  0.2999999999999999\n",
       "  0.5999999999999998"
      ]
     },
     "execution_count": 37,
     "metadata": {},
     "output_type": "execute_result"
    }
   ],
   "source": [
    "r = 2\n",
    "(V[:,1:r]*((U[:,1:r]'*[-.5,2,3])./s[1:r]))"
   ]
  },
  {
   "cell_type": "code",
   "execution_count": 1,
   "metadata": {},
   "outputs": [
    {
     "ename": "UndefVarError",
     "evalue": "UndefVarError: r not defined",
     "output_type": "error",
     "traceback": [
      "UndefVarError: r not defined",
      "",
      "Stacktrace:",
      " [1] top-level scope at In[1]:1"
     ]
    }
   ],
   "source": [
    "(V[:,1:r]*((U[:,1:r]'*[-.5,2,3])./s[1:r]))"
   ]
  },
  {
   "cell_type": "markdown",
   "metadata": {},
   "source": [
    "E) Write down the general solution to Ax=b by eyeballing the information in the svd."
   ]
  },
  {
   "cell_type": "markdown",
   "metadata": {},
   "source": [
    "(4) (based on p1. on p175 of GS) Use the svd to show  A) that v₁,v₂,v₃ are independent but  B) v₁,v₂,v₃,v₄ are dependent."
   ]
  },
  {
   "cell_type": "code",
   "execution_count": 60,
   "metadata": {},
   "outputs": [
    {
     "data": {
      "text/plain": [
       "3×3 Array{Int64,2}:\n",
       " 1  1  1\n",
       " 0  1  1\n",
       " 0  0  1"
      ]
     },
     "execution_count": 60,
     "metadata": {},
     "output_type": "execute_result"
    }
   ],
   "source": [
    "v₁ = [1,0,0]\n",
    "v₂ = [1,1,0]\n",
    "v₃ = [1,1,1]\n",
    "v₄ = [2,3,4]\n",
    "A = [v₁ v₂ v₃]"
   ]
  },
  {
   "cell_type": "code",
   "execution_count": 61,
   "metadata": {},
   "outputs": [
    {
     "data": {
      "text/plain": [
       "3-element Array{Float64,1}:\n",
       " 2.246979603717467 \n",
       " 0.8019377358048381\n",
       " 0.5549581320873711"
      ]
     },
     "execution_count": 61,
     "metadata": {},
     "output_type": "execute_result"
    }
   ],
   "source": [
    "svdvals(A)"
   ]
  },
  {
   "cell_type": "code",
   "execution_count": 62,
   "metadata": {},
   "outputs": [
    {
     "ename": "LoadError",
     "evalue": "syntax: extra token \"v\" after end of expression",
     "output_type": "error",
     "traceback": [
      "syntax: extra token \"v\" after end of expression",
      ""
     ]
    }
   ],
   "source": [
    "B = [ ] #fill in the right values  (Note you can copy-past subscripts or\n",
    "type v\\_1<tab>)\n",
    "svdvals(B)"
   ]
  },
  {
   "cell_type": "markdown",
   "metadata": {},
   "source": [
    "(5) From GS Problem 16 (page 176)\n",
    "<br>\n",
    "Find a basis for each of these subspaces of R⁴. <br>\n",
    "    (A) All vectors whose components are equal. <br>\n",
    "    (B) All vectors whose components add to 0. <br>\n",
    "    (C) All vectors that are perpendicular to (1,1,0,0) and (1,0,1,1) <br>\n",
    "    (D) The column space of I₄. The nullspace of I₄.\n"
   ]
  },
  {
   "cell_type": "markdown",
   "metadata": {},
   "source": [
    "(6). From GS Problem 24 (page 177) True of False (with a reason based on the SVD)"
   ]
  },
  {
   "cell_type": "markdown",
   "metadata": {},
   "source": [
    "(A) If the columns of a matrix are dependent, so are the rows. <br>\n",
    "(B) The column space of a 2x2 matrix is the same as its row space. <br>\n",
    "(C) The column space of a 2x2 matrix has the same dimension as the row space. <br>\n",
    "(D) The columns of a matrix are a basis for the column space."
   ]
  },
  {
   "cell_type": "markdown",
   "metadata": {},
   "source": [
    "(7).  If A=QR, where R is non-singular, A) what is the projection P onto the column space of A in terms of possibly Q and R.  <br>\n",
    "B) Write P$^T$ in terms of P. <br>\n",
    "C) Write P$^2$ in terms of P."
   ]
  },
  {
   "cell_type": "markdown",
   "metadata": {},
   "source": [
    "(8) (GS p217 problem 26) If an m by m matrix has $A^2=A$ and is rank m prove that A=I. (Hint: for any vector x, let w solve Aw=x.  Now show Ax=x.)"
   ]
  },
  {
   "cell_type": "markdown",
   "metadata": {},
   "source": [
    "(9) (A projection matrix is a symmetric matrix such that $P^2=P$.)\n",
    "\n",
    "If P is a projection matrix, then show that I-P is as well."
   ]
  },
  {
   "cell_type": "markdown",
   "metadata": {},
   "source": [
    "(10) We will do an in class demo of recognizing digits (software a bit involved for a hw, but it would have been fun.)  Here is the math."
   ]
  },
  {
   "cell_type": "markdown",
   "metadata": {},
   "source": [
    "Suppose in 784 dimensional space, we have a 1000 vectors collected in a 784x1000 matrix called apples.  We have another 1000 vectors collected in a 784x1000 matrix called oranges.  Each matrix has rank 784, but the best rank 50 approximation is very good for both the apples and oranges matrix. <br>\n",
    "\n",
    "(Note: much of science and engineering is about learning to deal with the inexact.  We all find the exact so much more comforting, so this problem might take you out of your comfort zone, but only a little.)"
   ]
  },
  {
   "cell_type": "markdown",
   "metadata": {},
   "source": [
    "(A) What is the size of the U matrix for the exact compact SVD for the apples (or the oranges) matrix?"
   ]
  },
  {
   "cell_type": "markdown",
   "metadata": {},
   "source": [
    "(B) Suppose a new vector comes along and we want to decide if it's best classified as an apple or as an orange."
   ]
  },
  {
   "cell_type": "markdown",
   "metadata": {},
   "source": [
    "Would projecting it onto the column space of either U help?  Why or why not?"
   ]
  },
  {
   "cell_type": "markdown",
   "metadata": {},
   "source": [
    "(C) Consider the dot product of the new vector with the first column of the apple U and the orange U.  We now have two numbers.  What might you hope is true, if the dot product of the orange is much larger than that of the apple?"
   ]
  },
  {
   "cell_type": "markdown",
   "metadata": {},
   "source": [
    "    (D)  Let's consider taking the first k columns of the apple U and also the first k columns of the orange U.  Consider ||Uᵀ * (new vector)|| for the apple and orange.  What might you expect as k goes from 1 to 784."
   ]
  }
 ],
 "metadata": {
  "kernelspec": {
   "display_name": "Julia 1.1.0",
   "language": "julia",
   "name": "julia-1.1"
  },
  "language_info": {
   "file_extension": ".jl",
   "mimetype": "application/julia",
   "name": "julia",
   "version": "1.1.0"
  }
 },
 "nbformat": 4,
 "nbformat_minor": 2
}
