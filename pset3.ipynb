{
 "cells": [
  {
   "cell_type": "markdown",
   "metadata": {},
   "source": [
    "# 18.06 Spring2019 short pset 3 \n",
    "## due Wednesday  2/27 at 10:55am"
   ]
  },
  {
   "cell_type": "markdown",
   "metadata": {},
   "source": [
    "This problem set is completely based on lectures and your ingenuity.  No foreshadowing. You can optionally not use Juliabox at all, though using Julia may enhance the experience.  This entire set can be done with pencil and paper if you prefer. There should be no mention of AAᵀ,AᵀA or eigenvalues.  You should not google or use wikipedia, just what you learned in lecture."
   ]
  },
  {
   "cell_type": "markdown",
   "metadata": {},
   "source": [
    "# 1.   Consider the matrix A defined below."
   ]
  },
  {
   "cell_type": "code",
   "execution_count": 3,
   "metadata": {},
   "outputs": [
    {
     "data": {
      "text/plain": [
       "3×3 Array{Int64,2}:\n",
       "  1   4   2\n",
       "  2   8   4\n",
       " -1  -4  -2"
      ]
     },
     "execution_count": 3,
     "metadata": {},
     "output_type": "execute_result"
    }
   ],
   "source": [
    "A = [1 4 2;2 8 4;-1 -4 -2]"
   ]
  },
  {
   "cell_type": "markdown",
   "metadata": {},
   "source": [
    "You should be able to describe the column space of A without any fancy svd's, just by common sense. <br> 1a. Please describe the column space."
   ]
  },
  {
   "cell_type": "markdown",
   "metadata": {},
   "source": [
    "### Response\n",
    "\n",
    "The column space of matrix A is all multiples of the column vector (1, 2, -1)."
   ]
  },
  {
   "cell_type": "markdown",
   "metadata": {},
   "source": [
    "This matrix can be expressed as an outer product, A=xyᵀ. <br> 1b. Find an x and y such that A=xyᵀ. "
   ]
  },
  {
   "cell_type": "markdown",
   "metadata": {},
   "source": [
    "### Response\n",
    "\n",
    "One $x$ and $y$ such that $xy^T=A$ are the vectors:\n",
    "\n",
    "$x = (1,2,-1)$\n",
    "\n",
    "$y = (1, 4, 2)$"
   ]
  },
  {
   "cell_type": "markdown",
   "metadata": {},
   "source": [
    "Without a computer you should be able to write down a compact (rank r format) svd of A.  <br> 1c. What is U, Σ, and V? Write an exact answer not a decimal."
   ]
  },
  {
   "cell_type": "markdown",
   "metadata": {},
   "source": [
    "### Response\n",
    "\n",
    "One possible compact svd of A is:\n",
    "\n",
    "$\\begin{pmatrix}1/\\sqrt{6} \\\\ 2/\\sqrt{6} \\\\ -1/\\sqrt{6} \\end{pmatrix}\\begin{pmatrix}3\\sqrt{14}\\end{pmatrix}\\begin{pmatrix}1/\\sqrt{21} \\\\ 4/\\sqrt{21} \\\\ 2/\\sqrt{21} \\end{pmatrix}^T$"
   ]
  },
  {
   "cell_type": "markdown",
   "metadata": {},
   "source": [
    "If you wish to check your work, or are not sure what an exact answer would look like, one option (nothing required here!) is to execute the Julia code, but you will get decimals which you will have to think a bit about to recognize as exact numbers."
   ]
  },
  {
   "cell_type": "code",
   "execution_count": 7,
   "metadata": {},
   "outputs": [
    {
     "data": {
      "text/plain": [
       "3×1 Array{Float64,2}:\n",
       " -0.40824829046386313\n",
       " -0.8164965809277259 \n",
       "  0.40824829046386296"
      ]
     },
     "metadata": {},
     "output_type": "display_data"
    },
    {
     "data": {
      "text/plain": [
       "1-element Array{Float64,1}:\n",
       " 11.22497216032183"
      ]
     },
     "metadata": {},
     "output_type": "display_data"
    },
    {
     "data": {
      "text/plain": [
       "3-element Array{Float64,1}:\n",
       " -0.21821789023599225\n",
       " -0.8728715609439696 \n",
       " -0.43643578047198484"
      ]
     },
     "metadata": {},
     "output_type": "display_data"
    }
   ],
   "source": [
    "using LinearAlgebra\n",
    "r = rank(A)\n",
    "U,s,V = svd(A)\n",
    "display(U[:,1:r])\n",
    "display(s[1:r])\n",
    "display(V[:,r])"
   ]
  },
  {
   "cell_type": "markdown",
   "metadata": {},
   "source": [
    "## 2. Suppose we have the matrices U,Σ, and V as follows:\n",
    "(Note dividing a matrix by √10 means divide every entry by the square root of 10). Suppose  A=UΣVᵀ."
   ]
  },
  {
   "cell_type": "code",
   "execution_count": 8,
   "metadata": {},
   "outputs": [
    {
     "data": {
      "text/plain": [
       "2×2 Array{Float64,2}:\n",
       " 0.707107  -0.707107\n",
       " 0.707107   0.707107"
      ]
     },
     "execution_count": 8,
     "metadata": {},
     "output_type": "execute_result"
    }
   ],
   "source": [
    "U = [1 -3;3 1] / √10\n",
    "Σ = [√45 0; 0 √5]\n",
    "V = [1 -1;1 1] / √2"
   ]
  },
  {
   "cell_type": "markdown",
   "metadata": {},
   "source": [
    "2a. Is A invertible?  (Do not multiply through) Why or why not?"
   ]
  },
  {
   "cell_type": "markdown",
   "metadata": {},
   "source": [
    "### Response\n",
    "\n",
    "Yes, the matrix $A$ is invertible. I can conclude this because the column space of $A$ is the same as the column space of $U$. This also implies that if $U$ is invertible, then so must A. In order to be invertible, the column vectors, (1,0) and (0, 1) must be in the column space of a matrix. Since the column space of $U$ includes these vectors, then so must the column space of $A$. Therefore, $A$ must be invertible."
   ]
  },
  {
   "cell_type": "markdown",
   "metadata": {},
   "source": [
    "2b. What is the column space of A?"
   ]
  },
  {
   "cell_type": "markdown",
   "metadata": {},
   "source": [
    "### Response\n",
    "\n",
    "The column space of A is all vectors in $\\mathbb{R}^2$"
   ]
  },
  {
   "cell_type": "markdown",
   "metadata": {},
   "source": [
    "2c. What is the nullspace of A?"
   ]
  },
  {
   "cell_type": "markdown",
   "metadata": {},
   "source": [
    "### Response\n",
    "\n",
    "The nullspace of A is the zero vector in $\\mathbb{R}^2$, (0,0)"
   ]
  },
  {
   "cell_type": "markdown",
   "metadata": {},
   "source": [
    "2d. In factored form (no need to multiply out) write the rank 1 approximation to A corresponding to the [image compression notebook](https://nbviewer.jupyter.org/github/mitmath/1806/blob/master/Compressing%20an%20Image%20with%20the%20svd.ipynb) we saw in class."
   ]
  },
  {
   "cell_type": "markdown",
   "metadata": {},
   "source": [
    "### Response\n",
    "\n",
    "The factored form of the rank 1 approximation to A is:\n",
    "\n",
    "$\\begin{pmatrix}1/\\sqrt{10} \\\\ 3/\\sqrt{10}\\end{pmatrix} \\begin{pmatrix}\\sqrt{45}\\end{pmatrix}\\begin{pmatrix}1/\\sqrt{2} \\\\ 1/\\sqrt{2}\\end{pmatrix}^T$"
   ]
  },
  {
   "cell_type": "markdown",
   "metadata": {},
   "source": [
    "2e. Find an SVD of the matrix A*V without multiplying out A*V"
   ]
  },
  {
   "cell_type": "markdown",
   "metadata": {},
   "source": [
    "### Response\n",
    "\n",
    "$\\begin{pmatrix}1/\\sqrt{10} & -3/\\sqrt{10} \\\\ 3/\\sqrt{10} & 1/\\sqrt{10}\\end{pmatrix} \\begin{pmatrix}\\sqrt{45} & 0 \\\\ 0 & \\sqrt{5}\\end{pmatrix}\\begin{pmatrix}1 & 0 \\\\ 0 & 1\\end{pmatrix}$"
   ]
  },
  {
   "cell_type": "markdown",
   "metadata": {},
   "source": [
    "2f. Find an SVD of the matrix A\\*V\\*V (you can multiply out V*V using pencil and paper)"
   ]
  },
  {
   "cell_type": "markdown",
   "metadata": {},
   "source": [
    "### Response\n",
    "\n",
    "$\\begin{pmatrix}1/\\sqrt{10} & -3/\\sqrt{10} \\\\ 3/\\sqrt{10} & 1/\\sqrt{10}\\end{pmatrix} \\begin{pmatrix}\\sqrt{45} & 0 \\\\ 0 & \\sqrt{5}\\end{pmatrix}\\begin{pmatrix}1/\\sqrt{2} & -1/\\sqrt{2} \\\\ 1/\\sqrt{2} & 1/\\sqrt{2}\\end{pmatrix}^T$"
   ]
  },
  {
   "cell_type": "markdown",
   "metadata": {},
   "source": [
    "You can optionally check your work using Julia."
   ]
  },
  {
   "cell_type": "markdown",
   "metadata": {},
   "source": [
    "## 3. Let A be an arbitrary mxn matrix.\n",
    "\n",
    "3a. Are the singular values of 2A always double that of A?  If yes, why? If not give a counterexample."
   ]
  },
  {
   "cell_type": "markdown",
   "metadata": {},
   "source": [
    "### Response\n",
    "\n",
    "The singular values of 2A are always double that of A, because the other matrices, U and V, must contain normalized columns. Therefore, the only place for the 2 to factor into the SVD is in the singular values. Therefore, the singular values will always be doubled in the matrix 2A."
   ]
  },
  {
   "cell_type": "markdown",
   "metadata": {},
   "source": [
    "3b. Are the singular values of -2A always -2 those of A?  If yes, why? If not give a counterexample.  (Be careful.)"
   ]
  },
  {
   "cell_type": "markdown",
   "metadata": {},
   "source": [
    "### Response\n",
    "\n",
    "The singular values of -2A are not always -2 those of A. This is because that either U or V can take the negative, leaving the singular values to take the factor of 2. "
   ]
  },
  {
   "cell_type": "markdown",
   "metadata": {},
   "source": [
    "# 4a. Let A=[1 2 3].  \n",
    "\n",
    "Describe the nullspace of A precisely as which geometric object with what normal?"
   ]
  },
  {
   "cell_type": "markdown",
   "metadata": {},
   "source": [
    "### Response\n",
    "\n",
    "The nullspace of A is a plane in $\\mathbb{R}^3$ with the normal vector (1, 2, 3) and goes through the point (0,0,0)"
   ]
  },
  {
   "cell_type": "markdown",
   "metadata": {},
   "source": [
    "4b. Let A=[1 2 3]ᵀ.  What is the nullspace of A?"
   ]
  },
  {
   "cell_type": "markdown",
   "metadata": {},
   "source": [
    "### Response\n",
    "\n",
    "The nullspace of the matrix A is the zero matrix in $\\mathbb{R}^1$."
   ]
  },
  {
   "cell_type": "code",
   "execution_count": null,
   "metadata": {},
   "outputs": [],
   "source": []
  }
 ],
 "metadata": {
  "kernelspec": {
   "display_name": "Julia 1.1.0",
   "language": "julia",
   "name": "julia-1.1"
  },
  "language_info": {
   "file_extension": ".jl",
   "mimetype": "application/julia",
   "name": "julia",
   "version": "1.1.0"
  }
 },
 "nbformat": 4,
 "nbformat_minor": 2
}
